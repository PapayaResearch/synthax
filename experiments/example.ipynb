{
 "cells": [
  {
   "cell_type": "code",
   "execution_count": 22,
   "metadata": {},
   "outputs": [
    {
     "name": "stdout",
     "output_type": "stream",
     "text": [
      "The autoreload extension is already loaded. To reload it, use:\n",
      "  %reload_ext autoreload\n"
     ]
    }
   ],
   "source": [
    "%load_ext autoreload\n",
    "%autoreload 2"
   ]
  },
  {
   "cell_type": "code",
   "execution_count": 23,
   "metadata": {},
   "outputs": [],
   "source": [
    "import functools\n",
    "import jax\n",
    "import chex\n",
    "import jax.numpy as jnp\n",
    "import flax\n",
    "import soundfile\n",
    "from tqdm.auto import tqdm\n",
    "from jax.scipy.signal import stft\n",
    "from evosax import DES, ParameterReshaper\n",
    "from synthax.synth import Voice\n",
    "from synthax.config import SynthConfig\n",
    "from synthax.parameter import ModuleParameter\n",
    "from IPython.display import Audio"
   ]
  },
  {
   "cell_type": "code",
   "execution_count": 24,
   "metadata": {},
   "outputs": [],
   "source": [
    "target_audio, sr = soundfile.read(\"bird.wav\")\n",
    "target_audio = jnp.atleast_2d(jnp.asarray(target_audio))"
   ]
  },
  {
   "cell_type": "code",
   "execution_count": 25,
   "metadata": {},
   "outputs": [],
   "source": [
    "n_iter = 1000\n",
    "pop_size = 100\n",
    "prng_key = jax.random.PRNGKey(0)"
   ]
  },
  {
   "cell_type": "code",
   "execution_count": 26,
   "metadata": {},
   "outputs": [],
   "source": [
    "synth_cfg = SynthConfig(batch_size=pop_size, sample_rate=sr)\n",
    "synth = Voice(\n",
    "    prng_key,\n",
    "    synth_cfg,\n",
    "    False\n",
    ")"
   ]
  },
  {
   "cell_type": "code",
   "execution_count": 27,
   "metadata": {},
   "outputs": [],
   "source": [
    "class InstanceFinder(flax.traverse_util.Traversal):\n",
    "    def __init__(self, target_type):\n",
    "        self.target_type = target_type\n",
    "        self.instances = []\n",
    "\n",
    "    def node(self, node):\n",
    "        if isinstance(node, self.target_type):\n",
    "            self.instances.append(node)\n",
    "        return node"
   ]
  },
  {
   "cell_type": "code",
   "execution_count": 28,
   "metadata": {},
   "outputs": [],
   "source": [
    "from synthax.io import write_synthspec, read_synthspec"
   ]
  },
  {
   "cell_type": "code",
   "execution_count": 29,
   "metadata": {},
   "outputs": [],
   "source": [
    "# def spectrogram(signals, n_fft, win_length, hop_length, window_fn, sample_rate):\n",
    "#     freqs, times, spec = stft(\n",
    "#         signals,\n",
    "#         fs=sample_rate,\n",
    "#         window=window_fn,\n",
    "#         nperseg=win_length,\n",
    "#         noverlap=hop_length,\n",
    "#         nfft=n_fft,\n",
    "#         boundary=None,\n",
    "#         return_onesided=True,\n",
    "#         axis=-1\n",
    "#     )\n",
    "    \n",
    "#     magnitude_spec = jnp.abs(spec)\n",
    "#     return magnitude_spec\n",
    "\n",
    "# spec_func = jax.jit(\n",
    "#     functools.partial(\n",
    "#         spectrogram,\n",
    "#         n_fft=512,\n",
    "#         win_length=400,\n",
    "#         hop_length=160,\n",
    "#         window_fn=\"hann\",\n",
    "#         sample_rate=sr\n",
    "#     )\n",
    "# )\n"
   ]
  },
  {
   "cell_type": "code",
   "execution_count": null,
   "metadata": {},
   "outputs": [],
   "source": []
  },
  {
   "cell_type": "code",
   "execution_count": null,
   "metadata": {
    "collapsed": true,
    "jupyter": {
     "outputs_hidden": true
    },
    "tags": []
   },
   "outputs": [],
   "source": []
  },
  {
   "cell_type": "code",
   "execution_count": 30,
   "metadata": {},
   "outputs": [],
   "source": [
    "@jax.jit\n",
    "def mse(y_true, y_pred):\n",
    "    return jnp.mean(jnp.square(y_true - y_pred), axis=list(range(1, len(y_true.shape))))"
   ]
  },
  {
   "cell_type": "code",
   "execution_count": 31,
   "metadata": {
    "tags": []
   },
   "outputs": [
    {
     "ename": "TypeError",
     "evalue": "Shapes must be 1D sequences of concrete values of integer type, got (100, Traced<ShapedArray(int32[])>with<DynamicJaxprTrace(level=1/0)>).\nIf using `jit`, try using `static_argnums` or applying `jit` to smaller subfunctions.\nThe error occurred while tracing the function fix_length at /home/gridsan/nsingh1/PapayaResearch/synthax/synthax/functional.py:42 for jit. This concrete value was not available in Python because it depends on the value of the argument length.",
     "output_type": "error",
     "traceback": [
      "\u001b[0;31m---------------------------------------------------------------------------\u001b[0m",
      "\u001b[0;31mTypeError\u001b[0m                                 Traceback (most recent call last)",
      "Cell \u001b[0;32mIn[31], line 1\u001b[0m\n\u001b[0;32m----> 1\u001b[0m params \u001b[38;5;241m=\u001b[39m \u001b[43msynth\u001b[49m\u001b[38;5;241;43m.\u001b[39;49m\u001b[43minit\u001b[49m\u001b[43m(\u001b[49m\u001b[43mprng_key\u001b[49m\u001b[43m)\u001b[49m\n\u001b[1;32m      2\u001b[0m make_sound \u001b[38;5;241m=\u001b[39m jax\u001b[38;5;241m.\u001b[39mjit(synth\u001b[38;5;241m.\u001b[39mapply)\n",
      "    \u001b[0;31m[... skipping hidden 9 frame]\u001b[0m\n",
      "File \u001b[0;32m~/PapayaResearch/synthax/synthax/synth.py:183\u001b[0m, in \u001b[0;36mVoice.__call__\u001b[0;34m(self, *args, **kwargs)\u001b[0m\n\u001b[1;32m    180\u001b[0m midi_f0, note_on_duration \u001b[38;5;241m=\u001b[39m \u001b[38;5;28mself\u001b[39m\u001b[38;5;241m.\u001b[39mmodules[\u001b[38;5;124m\"\u001b[39m\u001b[38;5;124mkeyboard\u001b[39m\u001b[38;5;124m\"\u001b[39m]()\n\u001b[1;32m    182\u001b[0m \u001b[38;5;66;03m# ADSRs for modulating LFOs\u001b[39;00m\n\u001b[0;32m--> 183\u001b[0m lfo_1_rate \u001b[38;5;241m=\u001b[39m \u001b[38;5;28;43mself\u001b[39;49m\u001b[38;5;241;43m.\u001b[39;49m\u001b[43mmodules\u001b[49m\u001b[43m[\u001b[49m\u001b[38;5;124;43m\"\u001b[39;49m\u001b[38;5;124;43mlfo_1_rate_adsr\u001b[39;49m\u001b[38;5;124;43m\"\u001b[39;49m\u001b[43m]\u001b[49m\u001b[43m(\u001b[49m\u001b[43mnote_on_duration\u001b[49m\u001b[43m)\u001b[49m\n\u001b[1;32m    184\u001b[0m lfo_2_rate \u001b[38;5;241m=\u001b[39m \u001b[38;5;28mself\u001b[39m\u001b[38;5;241m.\u001b[39mmodules[\u001b[38;5;124m\"\u001b[39m\u001b[38;5;124mlfo_2_rate_adsr\u001b[39m\u001b[38;5;124m\"\u001b[39m](note_on_duration)\n\u001b[1;32m    185\u001b[0m lfo_3_rate \u001b[38;5;241m=\u001b[39m \u001b[38;5;28mself\u001b[39m\u001b[38;5;241m.\u001b[39mmodules[\u001b[38;5;124m\"\u001b[39m\u001b[38;5;124mlfo_3_rate_adsr\u001b[39m\u001b[38;5;124m\"\u001b[39m](note_on_duration)\n",
      "    \u001b[0;31m[... skipping hidden 2 frame]\u001b[0m\n",
      "File \u001b[0;32m~/PapayaResearch/synthax/synthax/modules/envelopes.py:125\u001b[0m, in \u001b[0;36mADSR.__call__\u001b[0;34m(self, note_on_duration)\u001b[0m\n\u001b[1;32m    121\u001b[0m release_signal \u001b[38;5;241m=\u001b[39m \u001b[38;5;28mself\u001b[39m\u001b[38;5;241m.\u001b[39mmake_release(note_on_duration)\n\u001b[1;32m    123\u001b[0m signal \u001b[38;5;241m=\u001b[39m attack_signal \u001b[38;5;241m*\u001b[39m decay_signal \u001b[38;5;241m*\u001b[39m release_signal\n\u001b[0;32m--> 125\u001b[0m \u001b[38;5;28;01mreturn\u001b[39;00m \u001b[38;5;28;43mself\u001b[39;49m\u001b[38;5;241;43m.\u001b[39;49m\u001b[43mto_buffer_size\u001b[49m\u001b[43m(\u001b[49m\u001b[43msignal\u001b[49m\u001b[43m)\u001b[49m\n",
      "    \u001b[0;31m[... skipping hidden 2 frame]\u001b[0m\n",
      "File \u001b[0;32m~/PapayaResearch/synthax/synthax/modules/base.py:148\u001b[0m, in \u001b[0;36mControlRateModule.to_buffer_size\u001b[0;34m(self, signal)\u001b[0m\n\u001b[1;32m    139\u001b[0m \u001b[38;5;28;01mdef\u001b[39;00m \u001b[38;5;21mto_buffer_size\u001b[39m(\u001b[38;5;28mself\u001b[39m, signal: Signal) \u001b[38;5;241m-\u001b[39m\u001b[38;5;241m>\u001b[39m Signal:\n\u001b[1;32m    140\u001b[0m \u001b[38;5;250m    \u001b[39m\u001b[38;5;124;03m\"\"\"\u001b[39;00m\n\u001b[1;32m    141\u001b[0m \u001b[38;5;124;03m    Fixes the length of a signal to the control buffer size of this module,\u001b[39;00m\n\u001b[1;32m    142\u001b[0m \u001b[38;5;124;03m    as specified by :attr:`~.ControlRateModule.control_buffer_size`. Longer\u001b[39;00m\n\u001b[0;32m   (...)\u001b[0m\n\u001b[1;32m    146\u001b[0m \u001b[38;5;124;03m        signal: A signal to pad or truncate.\u001b[39;00m\n\u001b[1;32m    147\u001b[0m \u001b[38;5;124;03m    \"\"\"\u001b[39;00m\n\u001b[0;32m--> 148\u001b[0m     \u001b[38;5;28;01mreturn\u001b[39;00m \u001b[43mfix_length\u001b[49m\u001b[43m(\u001b[49m\u001b[43msignal\u001b[49m\u001b[43m,\u001b[49m\u001b[43m \u001b[49m\u001b[38;5;28;43mself\u001b[39;49m\u001b[38;5;241;43m.\u001b[39;49m\u001b[43mcontrol_buffer_size\u001b[49m\u001b[43m)\u001b[49m\n",
      "    \u001b[0;31m[... skipping hidden 12 frame]\u001b[0m\n",
      "File \u001b[0;32m~/PapayaResearch/synthax/synthax/functional.py:46\u001b[0m, in \u001b[0;36mfix_length\u001b[0;34m(signal, length)\u001b[0m\n\u001b[1;32m     44\u001b[0m \u001b[38;5;250m\u001b[39m\u001b[38;5;124;03m\"\"\"Pad or truncate to specified length.\"\"\"\u001b[39;00m\n\u001b[1;32m     45\u001b[0m num_samples \u001b[38;5;241m=\u001b[39m signal\u001b[38;5;241m.\u001b[39mshape[\u001b[38;5;241m-\u001b[39m\u001b[38;5;241m1\u001b[39m]  \u001b[38;5;66;03m# Assuming signal is 1D or 2D\u001b[39;00m\n\u001b[0;32m---> 46\u001b[0m output \u001b[38;5;241m=\u001b[39m \u001b[43mjnp\u001b[49m\u001b[38;5;241;43m.\u001b[39;49m\u001b[43mzeros\u001b[49m\u001b[43m(\u001b[49m\u001b[43m(\u001b[49m\u001b[43msignal\u001b[49m\u001b[38;5;241;43m.\u001b[39;49m\u001b[43mshape\u001b[49m\u001b[43m[\u001b[49m\u001b[38;5;241;43m0\u001b[39;49m\u001b[43m]\u001b[49m\u001b[43m,\u001b[49m\u001b[43m \u001b[49m\u001b[43mlength\u001b[49m\u001b[43m)\u001b[49m\u001b[43m)\u001b[49m \u001b[38;5;28;01mif\u001b[39;00m signal\u001b[38;5;241m.\u001b[39mndim \u001b[38;5;241m==\u001b[39m \u001b[38;5;241m2\u001b[39m \u001b[38;5;28;01melse\u001b[39;00m jnp\u001b[38;5;241m.\u001b[39mzeros((length,))\n\u001b[1;32m     48\u001b[0m \u001b[38;5;66;03m# Use the minimum of the `length` and `num_samples` to avoid going out of bounds\u001b[39;00m\n\u001b[1;32m     49\u001b[0m min_length_num_samples \u001b[38;5;241m=\u001b[39m jnp\u001b[38;5;241m.\u001b[39mminimum(length, num_samples)\n",
      "File \u001b[0;32m~/.conda/envs/synthax/lib/python3.9/site-packages/jax/_src/numpy/lax_numpy.py:2152\u001b[0m, in \u001b[0;36mzeros\u001b[0;34m(shape, dtype)\u001b[0m\n\u001b[1;32m   2150\u001b[0m   \u001b[38;5;28;01mraise\u001b[39;00m \u001b[38;5;167;01mTypeError\u001b[39;00m(\u001b[38;5;124m\"\u001b[39m\u001b[38;5;124mexpected sequence object with len >= 0 or a single integer\u001b[39m\u001b[38;5;124m\"\u001b[39m)\n\u001b[1;32m   2151\u001b[0m dtypes\u001b[38;5;241m.\u001b[39mcheck_user_dtype_supported(dtype, \u001b[38;5;124m\"\u001b[39m\u001b[38;5;124mzeros\u001b[39m\u001b[38;5;124m\"\u001b[39m)\n\u001b[0;32m-> 2152\u001b[0m shape \u001b[38;5;241m=\u001b[39m \u001b[43mcanonicalize_shape\u001b[49m\u001b[43m(\u001b[49m\u001b[43mshape\u001b[49m\u001b[43m)\u001b[49m\n\u001b[1;32m   2153\u001b[0m \u001b[38;5;28;01mreturn\u001b[39;00m lax\u001b[38;5;241m.\u001b[39mfull(shape, \u001b[38;5;241m0\u001b[39m, _jnp_dtype(dtype))\n",
      "File \u001b[0;32m~/.conda/envs/synthax/lib/python3.9/site-packages/jax/_src/numpy/lax_numpy.py:79\u001b[0m, in \u001b[0;36mcanonicalize_shape\u001b[0;34m(shape, context)\u001b[0m\n\u001b[1;32m     77\u001b[0m   \u001b[38;5;28;01mreturn\u001b[39;00m core\u001b[38;5;241m.\u001b[39mcanonicalize_shape((shape,), context)  \u001b[38;5;66;03m# type: ignore\u001b[39;00m\n\u001b[1;32m     78\u001b[0m \u001b[38;5;28;01melse\u001b[39;00m:\n\u001b[0;32m---> 79\u001b[0m   \u001b[38;5;28;01mreturn\u001b[39;00m \u001b[43mcore\u001b[49m\u001b[38;5;241;43m.\u001b[39;49m\u001b[43mcanonicalize_shape\u001b[49m\u001b[43m(\u001b[49m\u001b[43mshape\u001b[49m\u001b[43m,\u001b[49m\u001b[43m \u001b[49m\u001b[43mcontext\u001b[49m\u001b[43m)\u001b[49m\n",
      "File \u001b[0;32m~/.conda/envs/synthax/lib/python3.9/site-packages/jax/_src/core.py:2061\u001b[0m, in \u001b[0;36mcanonicalize_shape\u001b[0;34m(shape, context)\u001b[0m\n\u001b[1;32m   2059\u001b[0m \u001b[38;5;28;01mexcept\u001b[39;00m \u001b[38;5;167;01mTypeError\u001b[39;00m:\n\u001b[1;32m   2060\u001b[0m   \u001b[38;5;28;01mpass\u001b[39;00m\n\u001b[0;32m-> 2061\u001b[0m \u001b[38;5;28;01mraise\u001b[39;00m _invalid_shape_error(shape, context)\n",
      "\u001b[0;31mTypeError\u001b[0m: Shapes must be 1D sequences of concrete values of integer type, got (100, Traced<ShapedArray(int32[])>with<DynamicJaxprTrace(level=1/0)>).\nIf using `jit`, try using `static_argnums` or applying `jit` to smaller subfunctions.\nThe error occurred while tracing the function fix_length at /home/gridsan/nsingh1/PapayaResearch/synthax/synthax/functional.py:42 for jit. This concrete value was not available in Python because it depends on the value of the argument length."
     ]
    }
   ],
   "source": [
    "params = synth.init(prng_key)\n",
    "make_sound = jax.jit(synth.apply)"
   ]
  },
  {
   "cell_type": "code",
   "execution_count": 21,
   "metadata": {},
   "outputs": [
    {
     "ename": "NameError",
     "evalue": "name 'params' is not defined",
     "output_type": "error",
     "traceback": [
      "\u001b[0;31m---------------------------------------------------------------------------\u001b[0m",
      "\u001b[0;31mNameError\u001b[0m                                 Traceback (most recent call last)",
      "Cell \u001b[0;32mIn[21], line 1\u001b[0m\n\u001b[0;32m----> 1\u001b[0m d \u001b[38;5;241m=\u001b[39m flax\u001b[38;5;241m.\u001b[39mtraverse_util\u001b[38;5;241m.\u001b[39mflatten_dict(\u001b[43mparams\u001b[49m)\n\u001b[1;32m      2\u001b[0m keys \u001b[38;5;241m=\u001b[39m d\u001b[38;5;241m.\u001b[39mkeys()\n\u001b[1;32m      3\u001b[0m values \u001b[38;5;241m=\u001b[39m d\u001b[38;5;241m.\u001b[39mvalues()\n",
      "\u001b[0;31mNameError\u001b[0m: name 'params' is not defined"
     ]
    }
   ],
   "source": [
    "d = flax.traverse_util.flatten_dict(params)\n",
    "keys = d.keys()\n",
    "values = d.values()\n",
    "init_params = jnp.vstack(list(values))"
   ]
  },
  {
   "cell_type": "code",
   "execution_count": null,
   "metadata": {},
   "outputs": [],
   "source": [
    "strategy = DES(popsize=pop_size, num_dims=init_params.shape[0])\n",
    "es_params = strategy.default_params\n",
    "state = strategy.initialize(prng_key, es_params)"
   ]
  },
  {
   "cell_type": "code",
   "execution_count": null,
   "metadata": {
    "tags": []
   },
   "outputs": [],
   "source": [
    "# target_spec = spec_func(target_audio)\n",
    "# target_spec = jnp.broadcast_to(target_spec, (pop_size, *target_spec.shape[1:]))"
   ]
  },
  {
   "cell_type": "code",
   "execution_count": null,
   "metadata": {
    "tags": []
   },
   "outputs": [],
   "source": [
    "best_params = None\n",
    "\n",
    "pbar = tqdm(range(n_iter))\n",
    "\n",
    "ask = jax.jit(strategy.ask)\n",
    "tell = jax.jit(strategy.tell)\n",
    "\n",
    "\n",
    "@jax.jit\n",
    "def make_params(synth_params):\n",
    "    synth_params = jnp.clip(synth_params, 0, 1)\n",
    "    fparams = dict(zip(keys, synth_params.T))\n",
    "    updated_params = flax.traverse_util.unflatten_dict(fparams)\n",
    "    return updated_params\n",
    "\n",
    "# for i in pbar:\n",
    "#     prng_key, rng_gen = jax.random.split(prng_key, 2)\n",
    "#     synth_params, state = ask(rng_gen, state, es_params)\n",
    "#     updated_params = make_params(synth_params)\n",
    "#     audio = make_sound(updated_params)\n",
    "#     # spec = spec_func(audio)\n",
    "    \n",
    "#     f = mse(target_audio, audio)\n",
    "#     state = tell(synth_params, f, state, es_params)\n",
    "    \n",
    "#     best_f = state.best_fitness\n",
    "#     best_params = state.best_member\n",
    "#     pbar.set_postfix({\"best\": best_f})"
   ]
  },
  {
   "cell_type": "code",
   "execution_count": null,
   "metadata": {},
   "outputs": [],
   "source": [
    "def make_batched(x, batch_size):\n",
    "    return jnp.broadcast_to(x, (batch_size, *x.shape[1:]))"
   ]
  },
  {
   "cell_type": "code",
   "execution_count": null,
   "metadata": {},
   "outputs": [],
   "source": [
    "target_audiob = make_batched(target_audio, pop_size)\n",
    "\n",
    "@functools.partial(jax.jit, static_argnums=(1,))\n",
    "def run_es_loop(rng, num_steps):\n",
    "    es_params = strategy.default_params\n",
    "    state = strategy.initialize(rng, es_params)\n",
    "\n",
    "    def es_step(state_input, tmp):\n",
    "        rng, state = state_input\n",
    "        rng, rng_iter = jax.random.split(rng)\n",
    "        synth_params, state = strategy.ask(rng_iter, state, es_params)\n",
    "        synth_params = jnp.clip(synth_params, 0, 1)\n",
    "        \n",
    "        fparams = dict(zip(keys, synth_params.T))\n",
    "        updated_params = flax.traverse_util.unflatten_dict(fparams)\n",
    "        audio = make_sound(updated_params)\n",
    "        \n",
    "        f = mse(target_audiob, audio)\n",
    "        \n",
    "        state = strategy.tell(synth_params, f, state, es_params)\n",
    "        return [rng, state], jnp.hstack([state.best_fitness, state.best_member])\n",
    "\n",
    "    [rng, state], scan_f = jax.lax.scan(\n",
    "        es_step,\n",
    "        [rng, state],\n",
    "        [jnp.zeros(num_steps)]\n",
    "    )\n",
    "    f = scan_f[:, 1]\n",
    "    v = scan_f[:, 1:]\n",
    "    i = jnp.argmin(f)\n",
    "    return f[i], v[i]"
   ]
  },
  {
   "cell_type": "code",
   "execution_count": null,
   "metadata": {
    "tags": []
   },
   "outputs": [],
   "source": [
    "# %timeit run_es_loop(prng_key, n_iter)"
   ]
  },
  {
   "cell_type": "code",
   "execution_count": null,
   "metadata": {},
   "outputs": [],
   "source": [
    "best_f, best_params = run_es_loop(prng_key, n_iter)"
   ]
  },
  {
   "cell_type": "code",
   "execution_count": null,
   "metadata": {
    "tags": []
   },
   "outputs": [],
   "source": [
    "synth_cfg1 = SynthConfig(batch_size=1)\n",
    "synth1 = Voice(\n",
    "    prng_key,\n",
    "    synth_cfg1,\n",
    "    False\n",
    ")\n",
    "\n",
    "synth_params1 = jnp.clip(jnp.atleast_2d(best_params).T, 0, 1)\n",
    "fparams1 = dict(zip(keys, synth_params1))\n",
    "updated_params1 = flax.traverse_util.unflatten_dict(fparams1)\n",
    "apply1 = jax.jit(synth1.apply)\n",
    "\n",
    "audio1 = apply1(updated_params1)"
   ]
  },
  {
   "cell_type": "code",
   "execution_count": null,
   "metadata": {},
   "outputs": [],
   "source": [
    "Audio(audio1[0] / jnp.abs(audio1[0]).max(), rate=sr)"
   ]
  },
  {
   "cell_type": "code",
   "execution_count": null,
   "metadata": {},
   "outputs": [],
   "source": [
    "best_params"
   ]
  },
  {
   "cell_type": "code",
   "execution_count": null,
   "metadata": {},
   "outputs": [],
   "source": []
  }
 ],
 "metadata": {
  "kernelspec": {
   "display_name": "Python [conda env:.conda-synthax]",
   "language": "python",
   "name": "conda-env-.conda-synthax-py"
  },
  "language_info": {
   "codemirror_mode": {
    "name": "ipython",
    "version": 3
   },
   "file_extension": ".py",
   "mimetype": "text/x-python",
   "name": "python",
   "nbconvert_exporter": "python",
   "pygments_lexer": "ipython3",
   "version": "3.9.16"
  }
 },
 "nbformat": 4,
 "nbformat_minor": 4
}
