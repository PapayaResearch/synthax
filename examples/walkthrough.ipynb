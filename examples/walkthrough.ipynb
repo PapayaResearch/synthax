{
 "cells": [
  {
   "cell_type": "markdown",
   "metadata": {},
   "source": [
    "# SynthAX Walk-through\n",
    "\n",
    "We walk through basic functionality of `synthax` in this Jupyter notebook.\n",
    "\n",
    "Just note that all ipd.Audio play widgets normalize the audio.\n",
    "\n",
    "**DISCLAIMER:** This notebook replicates the [examples](https://github.com/torchsynth/torchsynth/blob/main/examples/examples.ipynb) in [torchsynth](https://github.com/torchsynth/torchsynth). The tests are identical for reproducibility purposes, a few snippets of the code have been taken, and many of the explanations."
   ]
  },
  {
   "cell_type": "markdown",
   "metadata": {},
   "source": [
    "If you're running on a GPU outside of Google Colab, in order to leverage the JAX acceleration you have to install the package following these [instructions](https://github.com/google/jax#installation)."
   ]
  },
  {
   "cell_type": "code",
   "execution_count": null,
   "metadata": {},
   "outputs": [],
   "source": [
    "!pip install synthax matplotlib librosa"
   ]
  },
  {
   "cell_type": "code",
   "execution_count": null,
   "metadata": {},
   "outputs": [],
   "source": [
    "%load_ext autoreload\n",
    "%autoreload 2\n",
    "%matplotlib inline"
   ]
  },
  {
   "cell_type": "code",
   "execution_count": null,
   "metadata": {
    "lines_to_next_cell": 2
   },
   "outputs": [],
   "source": [
    "import IPython.display as ipd\n",
    "import librosa\n",
    "import matplotlib.pyplot as plt\n",
    "    \n",
    "import jax\n",
    "import jax.numpy as jnp\n",
    "import numpy as np\n",
    "from jax import grad\n",
    "from synthax.config import SynthConfig\n",
    "from synthax.parameter import ModuleParameterRange, ModuleParameterSpec\n",
    "from synthax.synth import Voice, ParametricSynth\n",
    "from synthax.modules.oscillators import SineVCO, FmVCO, SquareSawVCO, Noise\n",
    "from synthax.modules.envelopes import ADSR\n",
    "from synthax.modules.lfos import LFO\n",
    "from synthax.modules.amplifiers import VCA, ControlRateVCA\n",
    "from synthax.modules.mixers import AudioMixer, ModulationMixer\n",
    "from synthax.modules.control import ControlRateUpsample\n",
    "from synthax.modules.keyboard import MonophonicKeyboard"
   ]
  },
  {
   "cell_type": "markdown",
   "metadata": {},
   "source": [
    "Define two useful functions to plot the amplitude over time and the short-time Fourier Transform (STFT)"
   ]
  },
  {
   "cell_type": "code",
   "execution_count": null,
   "metadata": {},
   "outputs": [],
   "source": [
    "def time_plot(signal, sample_rate=44100):\n",
    "    t = jnp.linspace(0, len(signal) / sample_rate, len(signal), endpoint=False)\n",
    "    plt.plot(t, signal)\n",
    "    plt.xlabel(\"Time\")\n",
    "    plt.ylabel(\"Amplitude\")\n",
    "    plt.show()"
   ]
  },
  {
   "cell_type": "code",
   "execution_count": null,
   "metadata": {},
   "outputs": [],
   "source": [
    "def stft_plot(signal, sample_rate=44100):\n",
    "    X = librosa.stft(np.asarray(signal))\n",
    "    Xdb = librosa.amplitude_to_db(abs(X))\n",
    "    plt.figure(figsize=(5, 5))\n",
    "    librosa.display.specshow(Xdb, sr=sample_rate, x_axis=\"time\", y_axis=\"log\")\n",
    "    plt.show()"
   ]
  },
  {
   "cell_type": "markdown",
   "metadata": {},
   "source": [
    "## Random Key"
   ]
  },
  {
   "cell_type": "markdown",
   "metadata": {},
   "source": [
    "JAX uses pseudo-random number generation (PRNG) keys to approximate the properties of sequences of random numbers. These generators receive a seed to be deterministic and can be split to ensure different values while remaining deterministic."
   ]
  },
  {
   "cell_type": "code",
   "execution_count": null,
   "metadata": {},
   "outputs": [],
   "source": [
    "SEED = 13\n",
    "class PRNGKey():\n",
    "    def __init__(self):\n",
    "        self.PRNG_key = jax.random.PRNGKey(SEED)\n",
    "    def split(self):\n",
    "        self.PRNG_key, subkey = jax.random.split(self.PRNG_key)\n",
    "        return subkey\n",
    "        \n",
    "PRNG_key = PRNGKey()"
   ]
  },
  {
   "cell_type": "markdown",
   "metadata": {},
   "source": [
    "## Configs"
   ]
  },
  {
   "cell_type": "markdown",
   "metadata": {},
   "source": [
    "We're going to define multiple configurations (see `synthax.config`) to showcase the possibilities.\n",
    "\n",
    "- config1: Generates two sounds of 4 seconds each at once with a sampling rate of 44,100Hz\n",
    "- config2: Generates one sound of 4 seconds each at once with a sampling rate of 44,100Hz"
   ]
  },
  {
   "cell_type": "code",
   "execution_count": null,
   "metadata": {},
   "outputs": [],
   "source": [
    "config1 = SynthConfig(\n",
    "    batch_size=2,\n",
    "    sample_rate=44100,\n",
    "    buffer_size_seconds=4.0\n",
    ")"
   ]
  },
  {
   "cell_type": "code",
   "execution_count": null,
   "metadata": {},
   "outputs": [],
   "source": [
    "config2 = SynthConfig(\n",
    "    batch_size=1,\n",
    "    sample_rate=44100,\n",
    "    buffer_size_seconds=4.0\n",
    ")"
   ]
  },
  {
   "cell_type": "markdown",
   "metadata": {},
   "source": [
    "## Envelopes\n",
    "The `ADSR` envelope stands for Attack Decay Sustain Release, which is specified by four values:\n",
    "\n",
    "- attack: the attack time in seconds; the time it takes for the signal to ramp from 0 to 1.\n",
    "- decay: the decay time in seconds; the time to 'decay' from a peak of 1 to a sustain level.\n",
    "- sustain: the sustain level; a value between 0 and 1 that the envelope holds during a sustained note.\n",
    "- release: the release time in seconds; the time it takes the signal to decay from the sustain value to 0.\n",
    "\n",
    "Envelopes (see `synthax.modules.envelopes`) are used to modulate a variety of signals; usually one of pitch, amplitude, or filter cutoff frequency. In this notebook we will use the same envelope to modulate several different audio parameters.\n",
    "\n",
    "### A note about note-on, note-off behaviour\n",
    "\n",
    "By default, this envelope reacts as if it was triggered with midi, for example\n",
    "playing a keyboard. Each midi event has a beginning and end: note-on, when you\n",
    "press the key down; and note-off, when you release the key. `note_on_duration`\n",
    "is the amount of time that the key is depressed. During the note-on, the\n",
    "envelope moves through the attack and decay sections of the envelope. This\n",
    "leads to musically-intuitive, but programatically-counterintuitive behaviour.\n",
    "\n",
    "Assume attack is 0.5 seconds, and decay is 0.5 seconds. If a note is held for\n",
    "0.75 seconds, the envelope won't traverse through the entire attack-and-decay\n",
    "phase (specifically, it will execute the entire attack, and 0.25 seconds of\n",
    "the decay)."
   ]
  },
  {
   "cell_type": "markdown",
   "metadata": {},
   "source": [
    "### Setting the initial values"
   ]
  },
  {
   "cell_type": "code",
   "execution_count": null,
   "metadata": {},
   "outputs": [],
   "source": [
    "# Synthesis parameters.\n",
    "attack = jnp.array([0.1, 0.2])\n",
    "decay = jnp.array([0.1, 0.2])\n",
    "sustain = jnp.array([0.75, 0.8])\n",
    "release = jnp.array([0.5, 0.8])\n",
    "alpha = jnp.array([3.0, 4.0])\n",
    "\n",
    "# Envelope test\n",
    "adsr = ADSR(\n",
    "    config=config1,\n",
    "    PRNG_key=PRNG_key.split(),\n",
    "    attack=attack,\n",
    "    decay=decay,\n",
    "    sustain=sustain,\n",
    "    release=release,\n",
    "    alpha=alpha,\n",
    ")\n",
    "\n",
    "note_on_duration = jnp.array([0.5, 1.5])\n",
    "params = adsr.init(PRNG_key.split(), note_on_duration)\n",
    "envelope = jax.jit(adsr.apply)(params, note_on_duration)\n",
    "\n",
    "# Plot\n",
    "time_plot(envelope.T, adsr.control_rate)\n",
    "print(adsr)"
   ]
  },
  {
   "cell_type": "markdown",
   "metadata": {},
   "source": [
    "We can calculate the L1 error between the two envelopes"
   ]
  },
  {
   "cell_type": "code",
   "execution_count": null,
   "metadata": {},
   "outputs": [],
   "source": [
    "diff = jnp.abs(envelope[0, :] - envelope[1, :])\n",
    "err = jnp.mean(diff)\n",
    "print(\"Error =\", err)\n",
    "time_plot(diff.T)"
   ]
  },
  {
   "cell_type": "markdown",
   "metadata": {},
   "source": [
    "### Random initial values\n",
    "\n",
    "The parameters are intitialized randomly by default."
   ]
  },
  {
   "cell_type": "code",
   "execution_count": null,
   "metadata": {},
   "outputs": [],
   "source": [
    "# Envelope test\n",
    "adsr = ADSR(\n",
    "    config=config1,\n",
    "    PRNG_key=PRNG_key.split(),\n",
    ")\n",
    "\n",
    "note_on_duration = jnp.array([0.5, 1.5])\n",
    "params = adsr.init(PRNG_key.split(), note_on_duration)\n",
    "envelope = jax.jit(adsr.apply)(params, note_on_duration)\n",
    "\n",
    "# Plot\n",
    "time_plot(envelope.T, adsr.control_rate)\n",
    "print(adsr)"
   ]
  },
  {
   "cell_type": "markdown",
   "metadata": {},
   "source": [
    "## Oscillators\n",
    "\n",
    "There are several types of oscillators (see `synthax.modules.oscillators`) and sound generators available. Oscillators that can be controlled by an external signal are called voltage-coltrolled oscillators (VCOs) in the analog world and we adpot a similar approach here. Oscillators accept an input control signal and produce audio output. We have a simple sine oscilator (`SineVCO`), a square/saw oscillator (`SquareSawVCO`), and an FM oscillator (`FmVCO`). There is also a white noise generator (`Noise`)."
   ]
  },
  {
   "cell_type": "markdown",
   "metadata": {},
   "source": [
    "### SineVCO"
   ]
  },
  {
   "cell_type": "code",
   "execution_count": null,
   "metadata": {},
   "outputs": [],
   "source": [
    "# Set up a Keyboard module\n",
    "keyboard = MonophonicKeyboard(\n",
    "    config=config1,\n",
    "    PRNG_key=PRNG_key.split(),\n",
    "    midi_f0=jnp.array([69.0, 50.0]),\n",
    "    duration=jnp.array([0.5, 1.5])\n",
    ")\n",
    "\n",
    "# Trigger the keyboard, which returns a midi_f0 and note duration\n",
    "params = keyboard.init(PRNG_key.split())\n",
    "midi_f0, duration = jax.jit(keyboard.apply)(params)\n",
    "\n",
    "# Instantiate the sine wave VCO with tuning set to zero\n",
    "sine_vco = SineVCO(\n",
    "    config=config1,\n",
    "    PRNG_key=PRNG_key.split(),\n",
    "    tuning=jnp.array([0.0, 0.0]),\n",
    ")\n",
    "\n",
    "# Call the sine_vco with the midi_f0\n",
    "params = sine_vco.init(PRNG_key.split(), midi_f0)\n",
    "out = jax.jit(sine_vco.apply)(params, midi_f0)\n",
    "\n",
    "stft_plot(out[0])\n",
    "ipd.display(ipd.Audio(out[0], rate=sine_vco.sample_rate))"
   ]
  },
  {
   "cell_type": "markdown",
   "metadata": {},
   "source": [
    "VCOs have an optional pitch modulation argument that can be passed in during generation. Let's create a `SineVCO` modulated with an envelope."
   ]
  },
  {
   "cell_type": "code",
   "execution_count": null,
   "metadata": {},
   "outputs": [],
   "source": [
    "# Synthesis parameters.\n",
    "attack = jnp.array([0.1, 0.2])\n",
    "decay = jnp.array([0.1, 0.2])\n",
    "sustain = jnp.array([0.75, 0.8])\n",
    "release = jnp.array([0.5, 0.8])\n",
    "alpha = jnp.array([3.0, 4.0])\n",
    "note_on_duration = jnp.array([0.5, 1.5])\n",
    "\n",
    "### Modules\n",
    "# Set up a Keyboard module\n",
    "keyboard = MonophonicKeyboard(\n",
    "    config=config1,\n",
    "    PRNG_key=PRNG_key.split(),\n",
    "    midi_f0=jnp.array([69.0, 50.0]),\n",
    "    duration=note_on_duration\n",
    ")\n",
    "\n",
    "# Envelope test\n",
    "adsr = ADSR(\n",
    "    config=config1,\n",
    "    PRNG_key=PRNG_key.split(),\n",
    "    attack=attack,\n",
    "    decay=decay,\n",
    "    sustain=sustain,\n",
    "    release=release,\n",
    "    alpha=alpha,\n",
    ")\n",
    "\n",
    "# Upsample\n",
    "upsample = ControlRateUpsample(\n",
    "    config=config1,\n",
    "    PRNG_key=PRNG_key.split(),\n",
    ")\n",
    "\n",
    "### Calls\n",
    "# Trigger the keyboard, which returns a midi_f0 and note duration\n",
    "params = keyboard.init(PRNG_key.split())\n",
    "midi_f0, duration = jax.jit(keyboard.apply)(params)\n",
    "\n",
    "# Create an envelope -- modulation signals are computed at a lower\n",
    "# sampling rate and must be upsampled prior to feeding into audio\n",
    "# rate modules\n",
    "params = adsr.init(PRNG_key.split(), note_on_duration)\n",
    "envelope = jax.jit(adsr.apply)(params, note_on_duration)\n",
    "\n",
    "params = upsample.init(PRNG_key.split(), envelope)\n",
    "envelope = jax.jit(upsample.apply)(params, envelope)\n",
    "\n",
    "# Instantiate the sine wave VCO\n",
    "sine_vco = SineVCO(\n",
    "    config=config1,\n",
    "    PRNG_key=PRNG_key.split(),\n",
    "    tuning=jnp.array([0.0, 0.0]),\n",
    "    mod_depth=jnp.array([-12.0, 12.0]),\n",
    ")\n",
    "\n",
    "# Call the sine_vco with the midi_f0\n",
    "params = sine_vco.init(PRNG_key.split(), midi_f0, envelope)\n",
    "sine_out = jax.jit(sine_vco.apply)(params, midi_f0, envelope)\n",
    "\n",
    "stft_plot(sine_out[0])\n",
    "ipd.display(ipd.Audio(sine_out[0], rate=sine_vco.sample_rate))\n",
    "stft_plot(sine_out[1])\n",
    "ipd.display(ipd.Audio(sine_out[1], rate=sine_vco.sample_rate))\n",
    "\n",
    "# We can use auraloss instead of raw waveform loss. This is just\n",
    "# to show that gradient computations occur\n",
    "diff = jnp.abs(sine_out[0] - sine_out[1])\n",
    "err = jnp.mean(diff)\n",
    "print(\"Error =\", err)\n",
    "time_plot(diff)"
   ]
  },
  {
   "cell_type": "code",
   "execution_count": null,
   "metadata": {},
   "outputs": [],
   "source": [
    "vca = VCA(config=config1, PRNG_key=PRNG_key.split())\n",
    "params = vca.init(PRNG_key.split(), envelope, sine_out)\n",
    "test_out = jax.jit(vca.apply)(params, envelope, sine_out)\n",
    "\n",
    "time_plot(test_out[0])"
   ]
  },
  {
   "cell_type": "markdown",
   "metadata": {},
   "source": [
    "### SquareSaw Oscillator\n",
    "\n",
    "Now, let's use a `SquareSawVCO` oscillator. Use the shape parameter to\n",
    "interpolate between a square wave (shape = 0) and a sawtooth wave (shape = 1)."
   ]
  },
  {
   "cell_type": "code",
   "execution_count": null,
   "metadata": {},
   "outputs": [],
   "source": [
    "# Set up a Keyboard module\n",
    "keyboard = MonophonicKeyboard(\n",
    "    config=config1,\n",
    "    PRNG_key=PRNG_key.split(),\n",
    "    midi_f0=jnp.array([30.0, 30.0]),\n",
    "    duration=jnp.array([0.5, 1.5])\n",
    ")\n",
    "\n",
    "# Trigger the keyboard, which returns a midi_f0 and note duration\n",
    "params = keyboard.init(PRNG_key.split())\n",
    "midi_f0, duration = jax.jit(keyboard.apply)(params)\n",
    "\n",
    "# Instantiate the sine wave VCO with tuning set to zero\n",
    "square_saw = SquareSawVCO(\n",
    "    config=config1,\n",
    "    PRNG_key=PRNG_key.split(),\n",
    "    tuning=jnp.array([0.0, 0.0]),\n",
    "    mod_depth=jnp.array([0.0, 0.0]),\n",
    "    shape=jnp.array([0.0, 1.0]),\n",
    ")\n",
    "\n",
    "# Envelope\n",
    "env = jnp.zeros([2, square_saw.buffer_size])\n",
    "\n",
    "# Call the sine_vco with the midi_f0\n",
    "params = square_saw.init(PRNG_key.split(), midi_f0, env)\n",
    "square_saw_out = jax.jit(square_saw.apply)(params, midi_f0, env)\n",
    "\n",
    "stft_plot(square_saw_out[0])\n",
    "ipd.display(ipd.Audio(square_saw_out[0], rate=square_saw.sample_rate))\n",
    "stft_plot(square_saw_out[1])\n",
    "ipd.display(ipd.Audio(square_saw_out[1], rate=square_saw.sample_rate))\n",
    "\n",
    "err = jnp.mean(jnp.abs(square_saw_out[0] - square_saw_out[1]))\n",
    "print(\"Error: \", err)"
   ]
  },
  {
   "cell_type": "markdown",
   "metadata": {},
   "source": [
    "### FM Synthesis\n",
    "\n",
    "The `FmVCO` class accepts any audio input.\n",
    "\n",
    "Just a note that, as in classic FM synthesis, you're dealing with a complex\n",
    "architecture of modulators. Each 'operator ' has its own pitch envelope, and\n",
    "amplitude envelope. The 'amplitude' envelope of an operator is really the\n",
    "*modulation depth* of the oscillator it operates on. So in the example below,\n",
    "we're using an ADSR to shape the depth of the *operator*, and this affects\n",
    "the modulation depth of the resultant signal."
   ]
  },
  {
   "cell_type": "code",
   "execution_count": null,
   "metadata": {
    "scrolled": false
   },
   "outputs": [],
   "source": [
    "# Set up a Keyboard module\n",
    "keyboard = MonophonicKeyboard(\n",
    "    config=config1,\n",
    "    PRNG_key=PRNG_key.split(),\n",
    "    midi_f0=jnp.array([50.0, 50.0]),\n",
    ")\n",
    "\n",
    "# Trigger the keyboard, which returns a midi_f0 and note duration\n",
    "params = keyboard.init(PRNG_key.split())\n",
    "midi_f0, duration = jax.jit(keyboard.apply)(params)\n",
    "\n",
    "# Instantiate the sine wave VCO\n",
    "sine_vco = SineVCO(\n",
    "    config=config1,\n",
    "    PRNG_key=PRNG_key.split(),\n",
    "    tuning=jnp.array([0.0, 0.0]),\n",
    "    mod_depth=jnp.array([0.0, 5.0]),\n",
    ")\n",
    "\n",
    "# Call the sine_vco with the midi_f0\n",
    "params = sine_vco.init(PRNG_key.split(), midi_f0, envelope)\n",
    "sine_out = jax.jit(sine_vco.apply)(params, midi_f0, envelope)\n",
    "\n",
    "vca = VCA(config=config1, PRNG_key=PRNG_key.split())\n",
    "\n",
    "params = vca.init(PRNG_key.split(), envelope, sine_out)\n",
    "sine_out = jax.jit(vca.apply)(params, envelope, sine_out)\n",
    "\n",
    "# Instantiate the FM VCO\n",
    "fm_vco = FmVCO(\n",
    "    config=config1,\n",
    "    PRNG_key=PRNG_key.split(),\n",
    "    tuning=jnp.array([0.0, 0.0]),\n",
    "    mod_depth=jnp.array([2.0, 5.0]),\n",
    ")\n",
    "\n",
    "params = fm_vco.init(PRNG_key.split(), midi_f0, sine_out)\n",
    "fm_out = jax.jit(fm_vco.apply)(params, midi_f0, sine_out)\n",
    "\n",
    "stft_plot(fm_out[0])\n",
    "ipd.display(ipd.Audio(fm_out[0], rate=fm_vco.sample_rate))\n",
    "\n",
    "stft_plot(fm_out[1])\n",
    "ipd.display(ipd.Audio(fm_out[1], rate=fm_vco.sample_rate))"
   ]
  },
  {
   "cell_type": "markdown",
   "metadata": {},
   "source": [
    "### Noise\n",
    "\n",
    "The noise generator creates white noise the same length as the SynthModule buffer length"
   ]
  },
  {
   "cell_type": "code",
   "execution_count": null,
   "metadata": {},
   "outputs": [],
   "source": [
    "noise = Noise(\n",
    "    config=config1,\n",
    "    PRNG_key=PRNG_key.split(),\n",
    ")\n",
    "\n",
    "# Call the sine_vco with the midi_f0\n",
    "params = noise.init(PRNG_key.split())\n",
    "out = jax.jit(noise.apply)(params)\n",
    "\n",
    "stft_plot(out[0])\n",
    "ipd.Audio(out[0], rate=noise.sample_rate)"
   ]
  },
  {
   "cell_type": "markdown",
   "metadata": {},
   "source": [
    "## Audio Mixer"
   ]
  },
  {
   "cell_type": "code",
   "execution_count": null,
   "metadata": {},
   "outputs": [],
   "source": [
    "env = jnp.zeros((config1.batch_size, config1.buffer_size))\n",
    "\n",
    "keyboard = MonophonicKeyboard(config=config1, PRNG_key=PRNG_key.split())\n",
    "sine_vco = SineVCO(config=config1, PRNG_key=PRNG_key.split())\n",
    "square_saw = SquareSawVCO(config=config1, PRNG_key=PRNG_key.split())\n",
    "noise = Noise(config=config1, PRNG_key=PRNG_key.split())\n",
    "\n",
    "params = keyboard.init(PRNG_key.split())\n",
    "midi_f0, note_on_duration = jax.jit(keyboard.apply)(params)\n",
    "\n",
    "params = sine_vco.init(PRNG_key.split(), midi_f0, env)\n",
    "sine_out = jax.jit(sine_vco.apply)(params, midi_f0, env)\n",
    "\n",
    "params = square_saw.init(PRNG_key.split(), midi_f0, env)\n",
    "sqr_out = jax.jit(square_saw.apply)(params, midi_f0, env)\n",
    "\n",
    "params = noise.init(PRNG_key.split())\n",
    "noise_out = jax.jit(noise.apply)(params)"
   ]
  },
  {
   "cell_type": "code",
   "execution_count": null,
   "metadata": {},
   "outputs": [],
   "source": [
    "mixer = AudioMixer(config=config1, PRNG_key=PRNG_key.split(), n_input=3)\n",
    "\n",
    "params = mixer.init(PRNG_key.split(), sine_out, sqr_out, noise_out)\n",
    "out = jax.jit(mixer.apply)(params, sine_out, sqr_out, noise_out)\n",
    "\n",
    "ipd.Audio(out[0], rate=mixer.sample_rate, normalize=False)"
   ]
  },
  {
   "cell_type": "markdown",
   "metadata": {},
   "source": [
    "We can also change the levels when initializing the mixer"
   ]
  },
  {
   "cell_type": "code",
   "execution_count": null,
   "metadata": {},
   "outputs": [],
   "source": [
    "mixer = AudioMixer(\n",
    "    config=config1,\n",
    "    PRNG_key=PRNG_key.split(),\n",
    "    n_input=3,\n",
    "    level=jnp.array([0.25, 0.25])\n",
    ")\n",
    "\n",
    "params = mixer.init(PRNG_key.split(), sine_out, sqr_out, noise_out)\n",
    "out = jax.jit(mixer.apply)(params, sine_out, sqr_out, noise_out)\n",
    "\n",
    "ipd.Audio(out[0], rate=mixer.sample_rate, normalize=False)"
   ]
  },
  {
   "cell_type": "code",
   "execution_count": null,
   "metadata": {},
   "outputs": [],
   "source": [
    "mixer = AudioMixer(\n",
    "    config=config1,\n",
    "    PRNG_key=PRNG_key.split(),\n",
    "    n_input=3,\n",
    "    level=jnp.array([0.125, 0.125])\n",
    ")\n",
    "\n",
    "params = mixer.init(PRNG_key.split(), sine_out, sqr_out, noise_out)\n",
    "out = jax.jit(mixer.apply)(params, sine_out, sqr_out, noise_out)\n",
    "\n",
    "ipd.Audio(out[0], rate=mixer.sample_rate, normalize=False)"
   ]
  },
  {
   "cell_type": "markdown",
   "metadata": {},
   "source": [
    "## Modulation\n",
    "\n",
    "Besides envelopes, LFOs can be used to modulate parameters"
   ]
  },
  {
   "cell_type": "code",
   "execution_count": null,
   "metadata": {
    "scrolled": false
   },
   "outputs": [],
   "source": [
    "lfo = LFO(\n",
    "    config=config1,\n",
    "    PRNG_key=PRNG_key.split(),\n",
    "    mod_depth=jnp.array([10.0, 0.0]),\n",
    "    frequency=jnp.array([1.0, 1.0]),\n",
    ")\n",
    "\n",
    "params = lfo.init(PRNG_key.split())\n",
    "out = jax.jit(lfo.apply)(params)\n",
    "\n",
    "keyboard = MonophonicKeyboard(\n",
    "    config=config1,\n",
    "    PRNG_key=PRNG_key.split(),\n",
    ")\n",
    "\n",
    "params = keyboard.init(PRNG_key.split())\n",
    "midi_f0, duration = jax.jit(keyboard.apply)(params)\n",
    "\n",
    "adsr = ADSR(\n",
    "    config=config1,\n",
    "    PRNG_key=PRNG_key.split(),\n",
    ")\n",
    "\n",
    "params = adsr.init(PRNG_key.split(), duration)\n",
    "envelope = jax.jit(adsr.apply)(params, duration)\n",
    "\n",
    "lfo2 = LFO(\n",
    "    config=config1,\n",
    "    PRNG_key=PRNG_key.split(),\n",
    ")\n",
    "\n",
    "params = lfo2.init(PRNG_key.split(), envelope)\n",
    "out2 = jax.jit(lfo2.apply)(params, envelope)\n",
    "\n",
    "time_plot(out[0], sample_rate=lfo.control_rate)\n",
    "time_plot(out2[0], sample_rate=lfo.control_rate)\n",
    "\n",
    "# A modulation mixer can be used to mix a modulation sources together\n",
    "# and maintain a 0 to 1 amplitude range\n",
    "mixer = ModulationMixer(\n",
    "    config=config1,\n",
    "    PRNG_key=PRNG_key.split(),\n",
    "    n_input=2,\n",
    "    n_output=1)\n",
    "\n",
    "params = mixer.init(PRNG_key.split(), out, out2)\n",
    "mods_mixed = jax.jit(mixer.apply)(params, out, out2)\n",
    "\n",
    "time_plot(mods_mixed[0][0], sample_rate=lfo.control_rate)"
   ]
  },
  {
   "cell_type": "markdown",
   "metadata": {},
   "source": [
    "## Voice Synthesizer\n",
    "\n",
    "Alternately, you can just use the Voice class that composes all these modules\n",
    "together automatically."
   ]
  },
  {
   "cell_type": "code",
   "execution_count": null,
   "metadata": {},
   "outputs": [],
   "source": [
    "synth = Voice(PRNG_key=PRNG_key.split(), config=config2)\n",
    "params = synth.init(PRNG_key.split())\n",
    "audio = jax.jit(synth.apply)(params)"
   ]
  },
  {
   "cell_type": "code",
   "execution_count": null,
   "metadata": {
    "scrolled": false
   },
   "outputs": [],
   "source": [
    "flat_params, _ = jax.tree_util.tree_flatten(params)\n",
    "\n",
    "print(\"Parameters: \", jnp.array(flat_params).squeeze().shape)\n",
    "print(\"Audio (batch, sample rate * seconds): \", audio.shape)"
   ]
  },
  {
   "cell_type": "code",
   "execution_count": null,
   "metadata": {
    "scrolled": true
   },
   "outputs": [],
   "source": [
    "ipd.Audio(audio, rate=synth.sample_rate)"
   ]
  },
  {
   "cell_type": "markdown",
   "metadata": {},
   "source": [
    "### Gradients"
   ]
  },
  {
   "cell_type": "code",
   "execution_count": null,
   "metadata": {
    "scrolled": false
   },
   "outputs": [],
   "source": [
    "# Define a loss function\n",
    "def loss_fn(params, synth):\n",
    "    return jnp.mean(synth.apply(params) ** 2)\n",
    "\n",
    "# Get the gradient of the loss with respect to the parameters\n",
    "grads = grad(loss_fn)(params, synth)"
   ]
  },
  {
   "cell_type": "markdown",
   "metadata": {},
   "source": [
    "## Parametric Synthesizer"
   ]
  },
  {
   "cell_type": "markdown",
   "metadata": {},
   "source": [
    "We can also define a synthesizer with random parameters based on the number of `SineVCO`, `SquareSawVCO`, and `FmVCO`."
   ]
  },
  {
   "cell_type": "code",
   "execution_count": null,
   "metadata": {},
   "outputs": [],
   "source": [
    "synth = ParametricSynth(\n",
    "    PRNG_key=PRNG_key.split(),\n",
    "    config=config2,\n",
    "    sine=1,\n",
    "    square_saw=1,\n",
    "    fm_sine=1,\n",
    "    fm_square_saw=0,\n",
    ")\n",
    "params = synth.init(PRNG_key.split())\n",
    "audio = jax.jit(synth.apply)(params)"
   ]
  },
  {
   "cell_type": "code",
   "execution_count": null,
   "metadata": {},
   "outputs": [],
   "source": [
    "flat_params, _ = jax.tree_util.tree_flatten(params)\n",
    "\n",
    "print(\"Parameters: \", jnp.array(flat_params).squeeze().shape)\n",
    "print(\"Audio (batch, sample rate * seconds): \", audio.shape)"
   ]
  },
  {
   "cell_type": "code",
   "execution_count": null,
   "metadata": {},
   "outputs": [],
   "source": [
    "ipd.Audio(audio, rate=synth.sample_rate)"
   ]
  },
  {
   "cell_type": "markdown",
   "metadata": {},
   "source": [
    "## TODO: Load/Save Synthesizer"
   ]
  }
 ],
 "metadata": {
  "jupytext": {
   "cell_metadata_filter": "-all",
   "executable": "/usr/bin/env python3",
   "main_language": "python",
   "notebook_metadata_filter": "-all"
  },
  "kernelspec": {
   "display_name": "Python 3 (ipykernel)",
   "language": "python",
   "name": "python3"
  },
  "language_info": {
   "codemirror_mode": {
    "name": "ipython",
    "version": 3
   },
   "file_extension": ".py",
   "mimetype": "text/x-python",
   "name": "python",
   "nbconvert_exporter": "python",
   "pygments_lexer": "ipython3",
   "version": "3.10.9"
  }
 },
 "nbformat": 4,
 "nbformat_minor": 4
}
